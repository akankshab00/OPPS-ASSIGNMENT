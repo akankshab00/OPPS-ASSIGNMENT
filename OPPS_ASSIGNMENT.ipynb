{
  "nbformat": 4,
  "nbformat_minor": 0,
  "metadata": {
    "colab": {
      "provenance": []
    },
    "kernelspec": {
      "name": "python3",
      "display_name": "Python 3"
    },
    "language_info": {
      "name": "python"
    }
  },
  "cells": [
    {
      "cell_type": "markdown",
      "source": [
        "**OOPS ASSIGNMENT**\n",
        "\n",
        "> submitted by Akanksha Bhatt\n",
        "\n"
      ],
      "metadata": {
        "id": "4oq2_TDeNbsa"
      }
    },
    {
      "cell_type": "markdown",
      "source": [
        "**1. What are the five key concepts of Object-Oriented Programming (OOP)?**\n",
        "\n",
        "**Class:** A blueprint for creating objects that defines properties (attributes) and behaviors (methods).\n",
        "\n",
        "**Object:** An instance of a class that encapsulates data and behaviors.\n",
        "\n",
        "**Encapsulation:** Restricting direct access to certain components of an object and bundling data with methods.\n",
        "\n",
        "**Inheritance:** Mechanism where one class can inherit attributes and methods from another.\n",
        "\n",
        "**Polymorphism:** Ability to use a unified interface for different data types or classes."
      ],
      "metadata": {
        "id": "DkgdT3bHNbRj"
      }
    },
    {
      "cell_type": "markdown",
      "source": [
        "**2. Write a Python class for a Car with attributes for make, model, and year. Include a method to display the car's information.**"
      ],
      "metadata": {
        "id": "ztSj4a3tNasn"
      }
    },
    {
      "cell_type": "code",
      "execution_count": 1,
      "metadata": {
        "colab": {
          "base_uri": "https://localhost:8080/"
        },
        "id": "qUFbnANMNZdH",
        "outputId": "af714386-19d0-4192-d4ab-c67d420b3a59"
      },
      "outputs": [
        {
          "output_type": "stream",
          "name": "stdout",
          "text": [
            "2021 Toyota Corolla\n"
          ]
        }
      ],
      "source": [
        "class Car:\n",
        "    def __init__(self, make, model, year):\n",
        "        self.make = make\n",
        "        self.model = model\n",
        "        self.year = year\n",
        "\n",
        "    def display_info(self):\n",
        "        return f\"{self.year} {self.make} {self.model}\"\n",
        "\n",
        "# Example usage\n",
        "car = Car(\"Toyota\", \"Corolla\", 2021)\n",
        "print(car.display_info())"
      ]
    },
    {
      "cell_type": "markdown",
      "source": [
        "**3. Explain the difference between instance methods and class methods. Provide an example of each.**\n",
        "\n",
        "\n",
        "**Instance methods**:  Operate on an instance of the class and can access instance attributes.\n",
        "\n",
        "**Class methods:** Operate on the class itself and use the @classmethod decorator."
      ],
      "metadata": {
        "id": "PJ5LMf5dOxAC"
      }
    },
    {
      "cell_type": "code",
      "source": [
        "class Example:\n",
        "    count = 0  # Class attribute\n",
        "\n",
        "    def __init__(self, value):\n",
        "        self.value = value  # Instance attribute\n",
        "        Example.count += 1\n",
        "\n",
        "    def instance_method(self):\n",
        "        return f\"Instance method: {self.value}\"\n",
        "\n",
        "    @classmethod\n",
        "    def class_method(cls):\n",
        "        return f\"Class method: {cls.count}\"\n",
        "\n",
        "# Example usage\n",
        "obj = Example(10)\n",
        "print(obj.instance_method())\n",
        "print(Example.class_method())"
      ],
      "metadata": {
        "colab": {
          "base_uri": "https://localhost:8080/"
        },
        "id": "PeC_9CjTOvHn",
        "outputId": "515d50e8-783e-4e7f-fe23-59998a9f3e23"
      },
      "execution_count": 2,
      "outputs": [
        {
          "output_type": "stream",
          "name": "stdout",
          "text": [
            "Instance method: 10\n",
            "Class method: 1\n"
          ]
        }
      ]
    },
    {
      "cell_type": "markdown",
      "source": [
        "**4. How does Python implement method overloading? Give an example.**\n",
        "\n",
        "Python doesn't support method overloading directly. However, it can be simulated using default arguments or variable-length arguments."
      ],
      "metadata": {
        "id": "pwwfYTiUOzCf"
      }
    },
    {
      "cell_type": "code",
      "source": [
        "class Calculator:\n",
        "    def add(self, a, b=0, c=0):\n",
        "        return a + b + c\n",
        "\n",
        "# Example usage\n",
        "calc = Calculator()\n",
        "print(calc.add(1))\n",
        "print(calc.add(1, 2))\n",
        "print(calc.add(1, 2, 3))"
      ],
      "metadata": {
        "colab": {
          "base_uri": "https://localhost:8080/"
        },
        "id": "lDSaBocuOzNL",
        "outputId": "69fc03ec-0277-4c0b-c582-73b714ee3c2b"
      },
      "execution_count": 3,
      "outputs": [
        {
          "output_type": "stream",
          "name": "stdout",
          "text": [
            "1\n",
            "3\n",
            "6\n"
          ]
        }
      ]
    },
    {
      "cell_type": "markdown",
      "source": [
        "**5. What are the three types of access modifiers in Python? How are they denoted?**\n",
        "\n",
        "**Public:** Accessible anywhere (default). example = 42\n",
        "\n",
        "**Protected:** Accessible within the class and subclasses. _example = 42\n",
        "\n",
        "**Private:** Accessible only within the class. __example = 42"
      ],
      "metadata": {
        "id": "Qk2ogOFyOzVw"
      }
    },
    {
      "cell_type": "markdown",
      "source": [
        "**6. Describe the five types of inheritance in Python. Provide a simple example of multiple inheritance.**\n",
        "\n",
        "**Single Inheritance:** One parent, one child class.\n",
        "\n",
        "**Multiple Inheritance:** A class inherits from multiple classes.\n",
        "\n",
        "**Multilevel Inheritance: **Chain of inheritance.\n",
        "\n",
        "**Hierarchical Inheritance:** Multiple child classes inherit from a single parent.\n",
        "\n",
        "**Hybrid Inheritance:** A mix of two or more types of inheritance.\n",
        "\n",
        "Example of multiple inheritance:"
      ],
      "metadata": {
        "id": "NCNZJw1ePu1l"
      }
    },
    {
      "cell_type": "code",
      "source": [
        "class A:\n",
        "    def method_a(self):\n",
        "        return \"Method from A\"\n",
        "\n",
        "class B:\n",
        "    def method_b(self):\n",
        "        return \"Method from B\"\n",
        "\n",
        "class C(A, B):\n",
        "    pass\n",
        "\n",
        "c = C()\n",
        "print(c.method_a())\n",
        "print(c.method_b())"
      ],
      "metadata": {
        "colab": {
          "base_uri": "https://localhost:8080/"
        },
        "id": "YQ1sYzo5Oze4",
        "outputId": "f13ae586-2616-4358-f489-853f70facaca"
      },
      "execution_count": 4,
      "outputs": [
        {
          "output_type": "stream",
          "name": "stdout",
          "text": [
            "Method from A\n",
            "Method from B\n"
          ]
        }
      ]
    },
    {
      "cell_type": "markdown",
      "source": [
        "**7. What is the Method Resolution Order (MRO) in Python? How can you retrieve it programmatically?**\n",
        "\n",
        "MRO defines the order in which Python looks for methods in a hierarchy. Use ClassName.mro() or help(ClassName) to retrieve it."
      ],
      "metadata": {
        "id": "iV6qeMZ_Ozms"
      }
    },
    {
      "cell_type": "code",
      "source": [
        "class A: pass\n",
        "class B(A): pass\n",
        "print(B.mro())"
      ],
      "metadata": {
        "colab": {
          "base_uri": "https://localhost:8080/"
        },
        "id": "73K2Nrh5Ozuy",
        "outputId": "4c53a3d9-cad5-437c-ff3c-4287a6840b3a"
      },
      "execution_count": 6,
      "outputs": [
        {
          "output_type": "stream",
          "name": "stdout",
          "text": [
            "[<class '__main__.B'>, <class '__main__.A'>, <class 'object'>]\n"
          ]
        }
      ]
    },
    {
      "cell_type": "markdown",
      "source": [
        "**8. Create an abstract base class Shape with an abstract method area(). Then create two subclasses Circle and Rectangle that implement the area() method.**"
      ],
      "metadata": {
        "id": "xz4-r_DKOz23"
      }
    },
    {
      "cell_type": "code",
      "source": [
        "from abc import ABC, abstractmethod\n",
        "\n",
        "class Shape(ABC):\n",
        "    @abstractmethod\n",
        "    def area(self):\n",
        "        pass\n",
        "\n",
        "class Circle(Shape):\n",
        "    def __init__(self, radius):\n",
        "        self.radius = radius\n",
        "\n",
        "    def area(self):\n",
        "        return 3.14 * self.radius**2\n",
        "\n",
        "class Rectangle(Shape):\n",
        "    def __init__(self, length, width):\n",
        "        self.length = length\n",
        "        self.width = width\n",
        "\n",
        "    def area(self):\n",
        "        return self.length * self.width\n",
        "\n",
        "# Example usage\n",
        "circle = Circle(5)\n",
        "rectangle = Rectangle(4, 6)\n",
        "print(circle.area())\n",
        "print(rectangle.area())"
      ],
      "metadata": {
        "colab": {
          "base_uri": "https://localhost:8080/"
        },
        "id": "qGadee_aOz-a",
        "outputId": "f01c23cd-41b7-4399-dcf1-109b70bacfd4"
      },
      "execution_count": 7,
      "outputs": [
        {
          "output_type": "stream",
          "name": "stdout",
          "text": [
            "78.5\n",
            "24\n"
          ]
        }
      ]
    },
    {
      "cell_type": "markdown",
      "source": [
        "**9. Demonstrate polymorphism by creating a function that can work with different shape objects to calculate and print their areas.**"
      ],
      "metadata": {
        "id": "XwPz-FLtO0JD"
      }
    },
    {
      "cell_type": "code",
      "source": [
        "def print_area(shape):\n",
        "    print(f\"The area is: {shape.area()}\")\n",
        "\n",
        "# Example usage\n",
        "print_area(Circle(5))\n",
        "print_area(Rectangle(4, 6))"
      ],
      "metadata": {
        "colab": {
          "base_uri": "https://localhost:8080/"
        },
        "id": "S-lZZ5GJO0Qm",
        "outputId": "b90b9251-7b18-41ad-ed3f-0ed8bd8deca0"
      },
      "execution_count": 8,
      "outputs": [
        {
          "output_type": "stream",
          "name": "stdout",
          "text": [
            "The area is: 78.5\n",
            "The area is: 24\n"
          ]
        }
      ]
    },
    {
      "cell_type": "markdown",
      "source": [
        "**10. Implement encapsulation in a BankAccount class with private attributes for balance and account_number.**"
      ],
      "metadata": {
        "id": "-efaK90MQw0R"
      }
    },
    {
      "cell_type": "code",
      "source": [
        "class BankAccount:\n",
        "    def __init__(self, account_number, balance=0):\n",
        "        self.__account_number = account_number  # Private attribute\n",
        "        self.__balance = balance\n",
        "\n",
        "    def deposit(self, amount):\n",
        "        self.__balance += amount\n",
        "\n",
        "    def withdraw(self, amount):\n",
        "        if amount <= self.__balance:\n",
        "            self.__balance -= amount\n",
        "        else:\n",
        "            print(\"Insufficient balance.\")\n",
        "\n",
        "    def get_balance(self):\n",
        "        return self.__balance\n",
        "\n",
        "# Example usage\n",
        "account = BankAccount(\"12345\", 1000)\n",
        "account.deposit(500)\n",
        "account.withdraw(200)\n",
        "print(account.get_balance())"
      ],
      "metadata": {
        "colab": {
          "base_uri": "https://localhost:8080/"
        },
        "id": "sTFq430BQt56",
        "outputId": "9525d7de-7130-48be-c17e-92b23d145e72"
      },
      "execution_count": 9,
      "outputs": [
        {
          "output_type": "stream",
          "name": "stdout",
          "text": [
            "1300\n"
          ]
        }
      ]
    },
    {
      "cell_type": "code",
      "source": [],
      "metadata": {
        "id": "k-gvrSiOQ43H"
      },
      "execution_count": null,
      "outputs": []
    }
  ]
}